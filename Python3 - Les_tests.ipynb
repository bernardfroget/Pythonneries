{
 "cells": [
  {
   "cell_type": "markdown",
   "metadata": {},
   "source": [
    "### Validez la cellule suivante avant de commencer ce classeur"
   ]
  },
  {
   "cell_type": "code",
   "execution_count": null,
   "metadata": {
    "collapsed": true
   },
   "outputs": [],
   "source": [
    "def interro(message,reponse):\n",
    "    r=eval(input(message))\n",
    "    if r==reponse:\n",
    "        print(\"Félicitation, la réponse est correcte\")\n",
    "    else:\n",
    "        print(\"Erreur : la réponse était \",reponse)"
   ]
  },
  {
   "cell_type": "markdown",
   "metadata": {},
   "source": [
    "## Introduction"
   ]
  },
  {
   "cell_type": "markdown",
   "metadata": {},
   "source": [
    "Si quelqu'un vous dit que « 4 est égal à 5 », vous lui répondez quoi ? « C'est faux ». Si maintenant la même personne vous dit que « 7 est égal à 7 », vous lui répondrez bien évidemment que « c'est vrai ». L'ordinateur peut aussi tester des affirmations en répondant par True ou False.\n",
    "\n",
    "En Python, ces deux affirmations (« 4 est égal à 5 » et « 7 est égal à 7 ») s'écriront « 4 == 5 » et « 7 == 7 » (notez bien le double signe égal).\n",
    "\n",
    "Validez et analysez les cellules suivantes :"
   ]
  },
  {
   "cell_type": "code",
   "execution_count": null,
   "metadata": {
    "collapsed": false
   },
   "outputs": [],
   "source": [
    "print(4==5)"
   ]
  },
  {
   "cell_type": "code",
   "execution_count": null,
   "metadata": {
    "collapsed": false
   },
   "outputs": [],
   "source": [
    "print(7==7)"
   ]
  },
  {
   "cell_type": "code",
   "execution_count": null,
   "metadata": {
    "collapsed": false
   },
   "outputs": [],
   "source": [
    "a=4\n",
    "b=3\n",
    "print(a==b+1)"
   ]
  },
  {
   "cell_type": "markdown",
   "metadata": {},
   "source": [
    "### ATTENTION : \n",
    "Il ne faut pas confondre ***l'opérateur d'égalité*** (==) et ***l'opérateur d'affectation** (=) utilisé pour attribuer une valeur aux variables. La confusion entre ces 2 opérateurs est une erreur classique qu'il est parfois très difficile à détecter !"
   ]
  },
  {
   "cell_type": "markdown",
   "metadata": {},
   "source": [
    "Il est aussi possible d'utiliser aussi l'opérateur « différent de » . En python on utilise le symbole **!=**"
   ]
  },
  {
   "cell_type": "code",
   "execution_count": null,
   "metadata": {
    "collapsed": false
   },
   "outputs": [],
   "source": [
    "a=3\n",
    "b=a+1\n",
    "print(a!=b)"
   ]
  },
  {
   "cell_type": "markdown",
   "metadata": {},
   "source": [
    "### A vous de jouer\n",
    "\n",
    "Saurez-vous dire le résultat du test ci-dessous ? validez la cellule et répondez par **True** ou **False**"
   ]
  },
  {
   "cell_type": "code",
   "execution_count": null,
   "metadata": {
    "collapsed": false
   },
   "outputs": [],
   "source": [
    "a=3\n",
    "b=a+1\n",
    "a=4\n",
    "interro(\"Quel est le résultat du test a==b ?\",a==b)\n",
    "print (\"En effet, a=\",a,\" et b=\",b)"
   ]
  },
  {
   "cell_type": "markdown",
   "metadata": {},
   "source": [
    "## Instruction Si...Alors...Sinon\n",
    "Nous allons maintenant étudier une structure fondamentale en programmation le « si …... alors.......sinon........».\n",
    "\n",
    "L'idée de base est la suivante :\n",
    "\n",
    "    Si <condition à tester> :\n",
    "        Instructions à réaliser\n",
    "        si la condition est vraie\n",
    "    Sinon :\n",
    "        Instructions à réaliser\n",
    "        si la condition est fausse\n",
    "        \n",
    "Si « condition à tester» vaut True alors on exécute seulement le premier bloc d'instructions, sinon, on exécute seulement le second bloc d'instruction.\n",
    "\n",
    "Regardons un exemple :"
   ]
  },
  {
   "cell_type": "code",
   "execution_count": null,
   "metadata": {
    "collapsed": false
   },
   "outputs": [],
   "source": [
    "age=eval(input(\"Quel âge as tu ?\"))\n",
    "if age >= 13:\n",
    "    print(\"Tu peux créer un compte Facebook !\")\n",
    "else:\n",
    "    print(\"Tu es encore trop jeune pour aller sur Facebook\")"
   ]
  },
  {
   "cell_type": "markdown",
   "metadata": {},
   "source": [
    "Comme vous pouvez le voir, la syntaxe Python est très proche du langage naturel. Il faut néanmoins être attentif à deux choses :\n",
    "- Les blocs d'instructions sont toujours décalés de quelques espaces par rapport à la marge (en général 4 espaces). On appelle ce décalage l'*indentation*. L'indentation permet à Python de délimiter le début et la fin d'un bloc d'instructions.\n",
    "- La ligne juste avant un bloc d'instruction ***doit se terminer par :***. La présence de ***:*** à la fin d'une ligne montre qu'un bloc d'instruction va commencer à la ligne suivante.\n",
    "\n",
    "Il est très courant pour les débutants Python d'oublier ces : ou l'indentation. Il faut être très attentif à cela.\n",
    "\n",
    "L'exemple suivant possède plusieurs erreurs. Corrigez les. Laissez-vous guider par les messages d'erreur que Python vous adresse."
   ]
  },
  {
   "cell_type": "code",
   "execution_count": null,
   "metadata": {
    "collapsed": false
   },
   "outputs": [],
   "source": [
    "age=eval(input(\"Quel âge as tu ?\"))\n",
    "if age >= 18:\n",
    "print(\"Tu va pouvoir aller voter\")\n",
    "else\n",
    "    print(\"Tu es mineur, grandis encore un peu :)\")"
   ]
  },
  {
   "cell_type": "markdown",
   "metadata": {},
   "source": [
    "## Combiner les tests avec des mots logiques\n",
    "Il est possible de combiner deux conditions avec les mots clés ***et*** et ***ou***. On utilise les mots Python **and** et **or**.\n",
    "\n",
    "Exécutez et analysez les cellules suivantes : "
   ]
  },
  {
   "cell_type": "code",
   "execution_count": null,
   "metadata": {
    "collapsed": false
   },
   "outputs": [],
   "source": [
    "a=3\n",
    "b=2\n",
    "a==3 and b>=3"
   ]
  },
  {
   "cell_type": "code",
   "execution_count": null,
   "metadata": {
    "collapsed": false
   },
   "outputs": [],
   "source": [
    "a==3 or b>=3"
   ]
  },
  {
   "cell_type": "markdown",
   "metadata": {},
   "source": [
    "## A vous de jouer\n",
    "\n",
    "Validez et analysez la cellule suivante :"
   ]
  },
  {
   "cell_type": "code",
   "execution_count": null,
   "metadata": {
    "collapsed": false
   },
   "outputs": [],
   "source": [
    "x = eval(input(\"Saisir la valeur de x : \"))\n",
    "print(\"L'inverse de\",x,\"est\", 1/x)"
   ]
  },
  {
   "cell_type": "markdown",
   "metadata": {},
   "source": [
    "Que se passe t-il si vous saisissez la valeur 0 pour **x** ? pourquoi ?\n",
    "\n",
    "Il n'est pas possible de laisser un programme se planter pour une erreur de calcul. Corrigez le programme ci-dessus afin qu'il affiche le message ***0 n'a pas d'inverse*** lorsque l'utilisateur saisit la valeur 0."
   ]
  },
  {
   "cell_type": "code",
   "execution_count": null,
   "metadata": {
    "collapsed": true
   },
   "outputs": [],
   "source": []
  }
 ],
 "metadata": {
  "kernelspec": {
   "display_name": "Python 3",
   "language": "python",
   "name": "python3"
  },
  "language_info": {
   "codemirror_mode": {
    "name": "ipython",
    "version": 3
   },
   "file_extension": ".py",
   "mimetype": "text/x-python",
   "name": "python",
   "nbconvert_exporter": "python",
   "pygments_lexer": "ipython3",
   "version": "3.4.3"
  },
  "widgets": {
   "state": {},
   "version": "1.1.2"
  }
 },
 "nbformat": 4,
 "nbformat_minor": 0
}
