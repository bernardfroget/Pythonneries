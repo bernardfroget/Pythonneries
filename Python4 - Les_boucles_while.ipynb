{
 "cells": [
  {
   "cell_type": "markdown",
   "metadata": {},
   "source": [
    "## Boucle Tant que"
   ]
  },
  {
   "cell_type": "markdown",
   "metadata": {},
   "source": [
    "La notion de **boucle** est fondamentale en informatique. Une boucle permet d'***exécuter plusieurs fois*** des instructions qui ne sont présentes qu'une seule fois dans le code.\n",
    "\n",
    "La structure de la boucle **while** est la suivante :\n",
    "\n",
    "Exécuter le programme ci-dessous. Quel est son rôle ?\n",
    "Remarquez la présence des `:` et le décalage de marge."
   ]
  },
  {
   "cell_type": "code",
   "execution_count": null,
   "metadata": {
    "collapsed": false
   },
   "outputs": [],
   "source": [
    "x=0\n",
    "while (x==0):\n",
    "       x=eval(input(\"saisissez un nombre non nul : \"))\n",
    "print(\"l'inverse de\",x,\"est\",1/x)"
   ]
  },
  {
   "cell_type": "markdown",
   "metadata": {},
   "source": [
    "## exemple : calculer une racine carrée\n",
    "\n",
    "Considérons l'algorithme suivant\n",
    "\n",
    "    saisir un nombre\n",
    "    racine prend la valeur 0\n",
    "    Tant que racine * racine < nombre :\n",
    "        racine prend la valeur racine+0.1\n",
    "    Afficher racine\n",
    "    \n",
    "Analysez cet algorithme et programmez-le en langage Python dans la cellule ci-dessous et testez-le sur le nombre **2**."
   ]
  },
  {
   "cell_type": "code",
   "execution_count": null,
   "metadata": {
    "collapsed": false
   },
   "outputs": [],
   "source": [
    "nombre = eval(input(\"Saisir un nombre \"))\n",
    "racine = 0\n",
    "while racine*racine < nombre:\n",
    "    racine = racine+0.1\n",
    "print(racine)"
   ]
  },
  {
   "cell_type": "markdown",
   "metadata": {},
   "source": [
    "Modifiez ce programme pour obtenir une valeur de $\\sqrt 2$ avec une précision de $10^{-2}$"
   ]
  },
  {
   "cell_type": "code",
   "execution_count": null,
   "metadata": {
    "collapsed": false
   },
   "outputs": [],
   "source": [
    "# votre programme ici"
   ]
  },
  {
   "cell_type": "markdown",
   "metadata": {},
   "source": [
    "Que se passe t-il si on saisir une valeur négative dans nombre ? \n",
    "\n",
    "Modifier votre programme pour afficher dans ce cas un message d'erreur explicite."
   ]
  },
  {
   "cell_type": "code",
   "execution_count": null,
   "metadata": {
    "collapsed": true
   },
   "outputs": [],
   "source": [
    "# votre programme ici"
   ]
  }
 ],
 "metadata": {
  "kernelspec": {
   "display_name": "Python 3",
   "language": "python",
   "name": "python3"
  },
  "language_info": {
   "codemirror_mode": {
    "name": "ipython",
    "version": 3
   },
   "file_extension": ".py",
   "mimetype": "text/x-python",
   "name": "python",
   "nbconvert_exporter": "python",
   "pygments_lexer": "ipython3",
   "version": "3.4.3"
  },
  "widgets": {
   "state": {},
   "version": "1.1.2"
  }
 },
 "nbformat": 4,
 "nbformat_minor": 0
}
