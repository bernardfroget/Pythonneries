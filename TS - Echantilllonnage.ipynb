{
 "cells": [
  {
   "cell_type": "markdown",
   "metadata": {
    "slideshow": {
     "slide_type": "slide"
    }
   },
   "source": [
    "# Notion d'Echantillonnage"
   ]
  },
  {
   "cell_type": "markdown",
   "metadata": {
    "slideshow": {
     "slide_type": "fragment"
    }
   },
   "source": [
    "## Population étudiée"
   ]
  },
  {
   "cell_type": "markdown",
   "metadata": {
    "slideshow": {
     "slide_type": "fragment"
    }
   },
   "source": [
    "Nous étudions dans une population de points de couleur noire et rouge le caractère rouge.<BR>\n",
    "On considère une population de 200 points noirs et 50 points rouges"
   ]
  },
  {
   "cell_type": "code",
   "execution_count": 1,
   "metadata": {
    "collapsed": false,
    "slideshow": {
     "slide_type": "fragment"
    }
   },
   "outputs": [
    {
     "name": "stdout",
     "output_type": "stream",
     "text": [
      "Populating the interactive namespace from numpy and matplotlib\n"
     ]
    }
   ],
   "source": [
    "%pylab inline\n",
    "# population de départ\n",
    "npts = [200,50]\n",
    "\n",
    "# taille des échantillons\n",
    "taille=30\n",
    "\n",
    "# Nombre d'échantilllons à fabriquer\n",
    "n_exp=50"
   ]
  },
  {
   "cell_type": "code",
   "execution_count": 2,
   "metadata": {
    "collapsed": false,
    "slideshow": {
     "slide_type": "-"
    }
   },
   "outputs": [
    {
     "name": "stdout",
     "output_type": "stream",
     "text": [
      "Un point ressemble à ceci :  (-1.4523333841950237, 1.4820473765567357, 'black')\n"
     ]
    }
   ],
   "source": [
    "from random import random\n",
    "col=['black','red']\n",
    "points=[]\n",
    "for i in range(2):\n",
    "    for j in range(npts[i]):\n",
    "        x=random()*6-3\n",
    "        y=random()*6-3\n",
    "        points.append((x,y,col[i]))\n",
    "            \n",
    "print(\"Un point ressemble à ceci : \",points[0])"
   ]
  },
  {
   "cell_type": "markdown",
   "metadata": {
    "slideshow": {
     "slide_type": "subslide"
    }
   },
   "source": [
    "Voici à quoi ressemble cette population :"
   ]
  },
  {
   "cell_type": "code",
   "execution_count": 26,
   "metadata": {
    "collapsed": false,
    "slideshow": {
     "slide_type": "fragment"
    }
   },
   "outputs": [
    {
     "data": {
      "text/plain": [
       "<matplotlib.collections.PathCollection at 0x107777dd8>"
      ]
     },
     "execution_count": 26,
     "metadata": {},
     "output_type": "execute_result"
    },
    {
     "data": {
      "image/png": "[encoded data removed]",
      "text/plain": [
       "<matplotlib.figure.Figure at 0x107a5d0f0>"
      ]
     },
     "metadata": {},
     "output_type": "display_data"
    }
   ],
   "source": [
    "#import matplotlib as plt\n",
    "# Mise en forme des données pour accélerer le tracé\n",
    "pxnoir,pxrouge,pynoir,pyrouge=[],[],[],[]\n",
    "for i in points:\n",
    "    if i[2]=='black':\n",
    "        pxnoir.append(i[0])\n",
    "        pynoir.append(i[1])\n",
    "    else:\n",
    "        pxrouge.append(i[0])\n",
    "        pyrouge.append(i[1])\n",
    "        \n",
    "pyplot.scatter(pxnoir,pynoir,marker='o',c='black',s=40)\n",
    "pyplot.scatter(pxrouge,pyrouge,marker='o',c='red',s=40)"
   ]
  },
  {
   "cell_type": "markdown",
   "metadata": {
    "slideshow": {
     "slide_type": "slide"
    }
   },
   "source": [
    "## Fabrication d'un échantillon"
   ]
  },
  {
   "cell_type": "markdown",
   "metadata": {
    "slideshow": {
     "slide_type": "fragment"
    }
   },
   "source": [
    "A présent, prélevons un échantillon de quelques points aléatoirement dans notre population de points.<BR>\n",
    "Nous effections un tirage sans remise."
   ]
  },
  {
   "cell_type": "code",
   "execution_count": 15,
   "metadata": {
    "collapsed": false,
    "slideshow": {
     "slide_type": "fragment"
    }
   },
   "outputs": [],
   "source": [
    "def prendreEchantillon(taille):\n",
    "    points1=points.copy()\n",
    "    echantillon=[]\n",
    "    for i in range(taille):\n",
    "        echantillon.append(points1.pop(randint(len(points1))))\n",
    "    return echantillon"
   ]
  },
  {
   "cell_type": "code",
   "execution_count": 25,
   "metadata": {
    "collapsed": false,
    "slideshow": {
     "slide_type": "fragment"
    }
   },
   "outputs": [
    {
     "data": {
      "image/png": "[encoded data removed]",
      "text/plain": [
       "<matplotlib.figure.Figure at 0x107b940f0>"
      ]
     },
     "metadata": {},
     "output_type": "display_data"
    }
   ],
   "source": [
    "echantillon=prendreEchantillon(taille)\n",
    "for i in echantillon:\n",
    "    plt.scatter(i[0],i[1],marker='o',c=i[2],s=40)\n",
    "    "
   ]
  },
  {
   "cell_type": "markdown",
   "metadata": {
    "slideshow": {
     "slide_type": "fragment"
    }
   },
   "source": [
    "Fabriquons une fonction pour compter les points rouges d'un échantillon"
   ]
  },
  {
   "cell_type": "code",
   "execution_count": 19,
   "metadata": {
    "collapsed": false,
    "slideshow": {
     "slide_type": "fragment"
    }
   },
   "outputs": [
    {
     "name": "stdout",
     "output_type": "stream",
     "text": [
      "Il y a  4  points rouges dans l'échantillon\n"
     ]
    }
   ],
   "source": [
    "def compteRouge(ech):\n",
    "    nb=0\n",
    "    for i in ech:\n",
    "        if i[2]=='red':\n",
    "            nb+=1\n",
    "    return nb\n",
    "\n",
    "print (\"Il y a \",compteRouge(echantillon), \" points rouges dans l'échantillon\")"
   ]
  },
  {
   "cell_type": "markdown",
   "metadata": {
    "slideshow": {
     "slide_type": "slide"
    }
   },
   "source": [
    "Avons-nous la m&ecirc;me proportion de points rouges dans notre échantillon que dans la population de départ ?"
   ]
  },
  {
   "cell_type": "code",
   "execution_count": 40,
   "metadata": {
    "collapsed": false,
    "slideshow": {
     "slide_type": "fragment"
    }
   },
   "outputs": [
    {
     "name": "stdout",
     "output_type": "stream",
     "text": [
      "Dans la population de départ nous avons une fréquence de points rouges égale à 0.2\n",
      "Dans l'échantillon nous avons une fréquence de  0.2\n"
     ]
    },
    {
     "data": {
      "image/png": "[encoded data removed]",
      "text/plain": [
       "<matplotlib.figure.Figure at 0x107e8ca20>"
      ]
     },
     "metadata": {},
     "output_type": "display_data"
    }
   ],
   "source": [
    "taille=30\n",
    "echantillon=prendreEchantillon(taille)\n",
    "for i in echantillon:\n",
    "    plt.scatter(i[0],i[1],marker='o',c=i[2],s=40)\n",
    "    \n",
    "print(\"Dans la population de départ nous avons une fréquence de points rouges égale à\",npts[1]/sum(npts))\n",
    "print(\"Dans l'échantillon nous avons une fréquence de \",compteRouge(echantillon)/taille)"
   ]
  },
  {
   "cell_type": "markdown",
   "metadata": {
    "slideshow": {
     "slide_type": "fragment"
    }
   },
   "source": [
    "## Fluctuation d'échantillonnage"
   ]
  },
  {
   "cell_type": "markdown",
   "metadata": {
    "slideshow": {
     "slide_type": "fragment"
    }
   },
   "source": [
    "Devons-nous nous étonner de cette différence ?<BR>\n",
    "Reproduisons plusieurs fois l'expérience et calculons pour chaque expérience la fréquence d'apparition des points rouge dans l'échantillon."
   ]
  },
  {
   "cell_type": "code",
   "execution_count": 41,
   "metadata": {
    "collapsed": false,
    "slideshow": {
     "slide_type": "fragment"
    }
   },
   "outputs": [
    {
     "name": "stdout",
     "output_type": "stream",
     "text": [
      "[0.2, 0.13333333333333333, 0.36666666666666664, 0.16666666666666666, 0.3, 0.3, 0.2, 0.23333333333333334, 0.1, 0.1, 0.16666666666666666, 0.16666666666666666, 0.23333333333333334, 0.16666666666666666, 0.2, 0.16666666666666666, 0.26666666666666666, 0.16666666666666666, 0.2, 0.1, 0.16666666666666666, 0.2, 0.2, 0.13333333333333333, 0.16666666666666666, 0.16666666666666666, 0.3333333333333333, 0.1, 0.26666666666666666, 0.1, 0.13333333333333333, 0.26666666666666666, 0.16666666666666666, 0.06666666666666667, 0.23333333333333334, 0.26666666666666666, 0.16666666666666666, 0.1, 0.13333333333333333, 0.26666666666666666, 0.3, 0.13333333333333333, 0.3, 0.3333333333333333, 0.26666666666666666, 0.1, 0.1, 0.2, 0.23333333333333334, 0.23333333333333334]\n"
     ]
    }
   ],
   "source": [
    "freqs=[]\n",
    "for i in range(n_exp):\n",
    "    echantillon=prendreEchantillon(taille)\n",
    "    freqs.append(compteRouge(echantillon)/taille)\n",
    "print(freqs)"
   ]
  },
  {
   "cell_type": "markdown",
   "metadata": {
    "slideshow": {
     "slide_type": "fragment"
    }
   },
   "source": [
    "Visualisons ces fréquences sur un graphique."
   ]
  },
  {
   "cell_type": "code",
   "execution_count": 42,
   "metadata": {
    "collapsed": false,
    "slideshow": {
     "slide_type": "fragment"
    }
   },
   "outputs": [
    {
     "data": {
      "text/plain": [
       "[0, 50, 0, 1]"
      ]
     },
     "execution_count": 42,
     "metadata": {},
     "output_type": "execute_result"
    },
    {
     "data": {
      "image/png": "[encoded data removed]",
      "text/plain": [
       "<matplotlib.figure.Figure at 0x107eeb860>"
      ]
     },
     "metadata": {},
     "output_type": "display_data"
    }
   ],
   "source": [
    "scatter(range(n_exp),freqs,marker='x',c='blue',s=40)\n",
    "axis([0,n_exp, 0, 1])"
   ]
  },
  {
   "cell_type": "markdown",
   "metadata": {
    "slideshow": {
     "slide_type": "subslide"
    }
   },
   "source": [
    "## Intervalle de fluctuation : Rappel de seconde"
   ]
  },
  {
   "cell_type": "markdown",
   "metadata": {
    "slideshow": {
     "slide_type": "fragment"
    }
   },
   "source": [
    "En seconde, vous avez vu que les fréquences observées dans l'échantillon <b>fluctuaient</b> à l'intérieur d'un intervalle dont la largeur dépend de la taille de l'échantillon :"
   ]
  },
  {
   "cell_type": "markdown",
   "metadata": {
    "slideshow": {
     "slide_type": "fragment"
    }
   },
   "source": [
    "$$I=\\left[p-\\dfrac{1}{\\sqrt n};p+\\dfrac{1}{\\sqrt n}\\right]$$"
   ]
  },
  {
   "cell_type": "code",
   "execution_count": 43,
   "metadata": {
    "collapsed": false,
    "slideshow": {
     "slide_type": "fragment"
    }
   },
   "outputs": [
    {
     "name": "stdout",
     "output_type": "stream",
     "text": [
      "I= [0.017425814164944653, 0.38257418583505537]\n"
     ]
    }
   ],
   "source": [
    "p=npts[1]/sum(npts)\n",
    "I=[p-1/sqrt(taille),p+1/sqrt(taille)]\n",
    "print(\"I=\",I)"
   ]
  },
  {
   "cell_type": "markdown",
   "metadata": {
    "slideshow": {
     "slide_type": "subslide"
    }
   },
   "source": [
    "Visualisons cet intervalle sur le graphique précédent"
   ]
  },
  {
   "cell_type": "code",
   "execution_count": 46,
   "metadata": {
    "collapsed": false,
    "slideshow": {
     "slide_type": "fragment"
    }
   },
   "outputs": [
    {
     "data": {
      "text/plain": [
       "[0, 50, 0, 1]"
      ]
     },
     "execution_count": 46,
     "metadata": {},
     "output_type": "execute_result"
    },
    {
     "data": {
      "image/png": "[encoded data removed]",
      "text/plain": [
       "<matplotlib.figure.Figure at 0x107942860>"
      ]
     },
     "metadata": {},
     "output_type": "display_data"
    }
   ],
   "source": [
    "scatter(range(n_exp),freqs,marker='x',c='blue',s=40)\n",
    "plot((0,n_exp),(I[0],I[0]))\n",
    "plot((0,n_exp),(I[1],I[1]))\n",
    "axis([0,n_exp, 0, 1])"
   ]
  },
  {
   "cell_type": "markdown",
   "metadata": {
    "slideshow": {
     "slide_type": "fragment"
    }
   },
   "source": [
    "L'intervalle de fluctuation contient la plupart des échantillons.<BR>\n",
    "En réalité la probabilité qu'un échantillon sorte de cet intervalle n'est que de 5%.<BR>\n",
    "Dénombrons dans le cadre de notre expérience le nombre d'échantillons en dehors de l'intervalle :"
   ]
  },
  {
   "cell_type": "code",
   "execution_count": 45,
   "metadata": {
    "collapsed": false,
    "slideshow": {
     "slide_type": "fragment"
    }
   },
   "outputs": [
    {
     "name": "stdout",
     "output_type": "stream",
     "text": [
      "Il y a  0  échantillons hors de l'intervalle de fluctuation, soit 0.0 %\n"
     ]
    }
   ],
   "source": [
    "HorsIntervalle=[e for e in freqs if e<I[0] or e>I[1]]\n",
    "d=len(HorsIntervalle)\n",
    "print (\"Il y a \",d, \" échantillons hors de l'intervalle de fluctuation, soit\", d/n_exp*100,\"%\" )"
   ]
  },
  {
   "cell_type": "markdown",
   "metadata": {
    "slideshow": {
     "slide_type": "notes"
    }
   },
   "source": [
    "A présent, modifiez les paramètres de l'expérience fixés au début et observez le résultat."
   ]
  }
 ],
 "metadata": {
  "kernelspec": {
   "display_name": "Python 3",
   "language": "python",
   "name": "python3"
  },
  "language_info": {
   "codemirror_mode": {
    "name": "ipython",
    "version": 3
   },
   "file_extension": ".py",
   "mimetype": "text/x-python",
   "name": "python",
   "nbconvert_exporter": "python",
   "pygments_lexer": "ipython3",
   "version": "3.4.3"
  }
 },
 "nbformat": 4,
 "nbformat_minor": 0
}
