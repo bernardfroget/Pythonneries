{
 "cells": [
  {
   "cell_type": "markdown",
   "metadata": {},
   "source": [
    "### Validez la cellule suivante avant de commencer ce classeur"
   ]
  },
  {
   "cell_type": "code",
   "execution_count": null,
   "metadata": {
    "collapsed": true
   },
   "outputs": [],
   "source": [
    "def interro(message,reponse):\n",
    "    r=eval(input(message))\n",
    "    if r==reponse:\n",
    "        print(\"Félicitation, la réponse est correcte\")\n",
    "    else:\n",
    "        print(\"Erreur : la réponse était \",reponse)"
   ]
  },
  {
   "cell_type": "markdown",
   "metadata": {},
   "source": [
    "# Utilisation avancée des variables"
   ]
  },
  {
   "cell_type": "markdown",
   "metadata": {},
   "source": [
    "## Variables locales - Variables globales"
   ]
  },
  {
   "cell_type": "markdown",
   "metadata": {},
   "source": [
    "Soit le programme suivant. D'après vous, quel est le résultat attendu après l’exécution de ce programme ?\n",
    "\n",
    "Vérifiez votre réponse en validant la cellule."
   ]
  },
  {
   "cell_type": "code",
   "execution_count": null,
   "metadata": {
    "collapsed": false
   },
   "outputs": [],
   "source": [
    "def mafonction():\n",
    "    i=3\n",
    "    print(\"dans mafonction, i vaut\", i)\n",
    "mafonction()\n",
    "print(\"en dehors de mafonction, i vaut\", i)"
   ]
  },
  {
   "cell_type": "markdown",
   "metadata": {},
   "source": [
    "### Variables locales"
   ]
  },
  {
   "cell_type": "markdown",
   "metadata": {},
   "source": [
    "Cela ne fonctionne pas ! cela est tout à fait normal : Dans la plupart des langages, une variable définie dans une fonction est utilisable uniquement dans cette fonction. En dehors de cette fonction, la variable n'existe pas !\n",
    "\n",
    "Une variable définie dans une fonction est appelée ***variable locale***. Une ***variable locale*** est une variable définie à l’**intérieur d’une fonction**. Elle n’est utilisable qu’à l’intérieur\n",
    "de celle-ci, le reste du programme **ignorant totalement** son existence."
   ]
  },
  {
   "cell_type": "markdown",
   "metadata": {},
   "source": [
    "## Variables globales"
   ]
  },
  {
   "cell_type": "markdown",
   "metadata": {},
   "source": [
    "Il existe des cas ou on souhaite qu'une variable soit persistante tout au long de la vie du programme, quelque soit la fonction qui l'utilise. C'est ce qu'on appelle une ***variable globale***.\n",
    "\n",
    "Il faut être assez prudent dans l'utilisation de ces variables : une trop grande quantité de variables globales rend le programme difficile à lire et à maintenir. C'est une technique de programmation peu élégante."
   ]
  },
  {
   "cell_type": "markdown",
   "metadata": {},
   "source": [
    "Une ***variable globale*** est définie dans le programme principal (souvent au début dans la section d’initialisa-\n",
    "tion). Elle est par défaut **accessible en lecture seule dans l’ensemble des fonctions** définies dans le programme.\n",
    "\n",
    "Observez la cellule suivante. **Sans l'exécutez**, essayez sur un brouillon de deviner l'affichage que vous devriez obtenir.\n"
   ]
  },
  {
   "cell_type": "code",
   "execution_count": null,
   "metadata": {
    "collapsed": false
   },
   "outputs": [],
   "source": [
    "varGlo=5\n",
    "def maFonction1():\n",
    "    print (\"varGlo dans fonction1\",varGlo)\n",
    "\n",
    "def maFonction2():\n",
    "    varGlo=4\n",
    "    print (\"varGlo dans fonction2\",varGlo)\n",
    "\n",
    "print(\"Debut programme principal\",varGlo)\n",
    "maFonction1()\n",
    "maFonction2()\n",
    "print(\"Fin programme principal\",varGlo)"
   ]
  },
  {
   "cell_type": "markdown",
   "metadata": {},
   "source": [
    "**Exécutez la cellule**.\n",
    "\n",
    "Vous constaterez dans l'exemple ci-dessus que\n",
    "-*varGlo* est **accessible en lecture** dans *maFonction1*\n",
    "-*varGlo* **a pu être modifiée** dans *maFonction2*\n",
    "-les modifications de *varGlo* dans *maFonction2* n'ont **pas été répercutées** dans le programme principal !\n",
    "\n",
    "On peut avoir l'impression en lisant le code que *varGlo* prend la valeur 4 dès que *maFonction2* est exécutée. En réalité, maFonction2 va créer une variable locale de même nom que varGlo qui n'aura d'existance qu'à l'intérieur de la fonction. La variable globale varGlo créée au début du programme, elle, est **inchangée**.\n",
    "\n",
    "Voila pourquoi il faut être prudent quant à l'utilisation des variables globales."
   ]
  },
  {
   "cell_type": "markdown",
   "metadata": {},
   "source": [
    "### Modifier une variable globale dans une fonction"
   ]
  },
  {
   "cell_type": "markdown",
   "metadata": {},
   "source": [
    "Il est bien sûr possible de modifier le contenu d'une variable globale à l'intérieur d'une fonction. Pour ce faire, on utilisera la commande python **global** pour indiquer à la fonction  les variables globales accessibles en modification.\n",
    "\n",
    "Etudiez l'exemple suivant :"
   ]
  },
  {
   "cell_type": "code",
   "execution_count": null,
   "metadata": {
    "collapsed": false
   },
   "outputs": [],
   "source": [
    "varGlo=5\n",
    "\n",
    "def maFonction3():\n",
    "    global varGlo\n",
    "    varGlo=4\n",
    "\n",
    "maFonction3()\n",
    "interro (\"Quelle est la valeur de varGlo après appel de maFonction3 ?\",varGlo)"
   ]
  },
  {
   "cell_type": "code",
   "execution_count": null,
   "metadata": {
    "collapsed": true
   },
   "outputs": [],
   "source": []
  }
 ],
 "metadata": {
  "kernelspec": {
   "display_name": "Python 3",
   "language": "python",
   "name": "python3"
  },
  "language_info": {
   "codemirror_mode": {
    "name": "ipython",
    "version": 3
   },
   "file_extension": ".py",
   "mimetype": "text/x-python",
   "name": "python",
   "nbconvert_exporter": "python",
   "pygments_lexer": "ipython3",
   "version": "3.4.3"
  },
  "widgets": {
   "state": {},
   "version": "1.1.2"
  }
 },
 "nbformat": 4,
 "nbformat_minor": 0
}
