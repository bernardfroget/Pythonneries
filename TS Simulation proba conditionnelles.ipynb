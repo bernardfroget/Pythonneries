{
 "cells": [
  {
   "cell_type": "markdown",
   "metadata": {},
   "source": [
    "# Analyse d’échantillon d’eau"
   ]
  },
  {
   "cell_type": "markdown",
   "metadata": {},
   "source": [
    "Lorsque la rivière qui longe le village XXX déborde, la probabilité que la source du village soit polluée est de 0.45 le lendemain. Dans le cas où cette rivière déborde, un employé municipal est chargé de prélever et d’analyser un échantillon d’eau de la source.\n",
    "\n",
    "L’analyse d’un échantillon n’est pas totalement fiable :\n",
    "- dans seulement 81 % des cas, l’analyse d’un échantillon contenant de l’eau polluée indiquera que l’eau est polluée.\n",
    "- dans seulement 79 % des cas, l’analyse d’un échantillon contenant de l’eau saine indiquera que l’eau est non polluée."
   ]
  },
  {
   "cell_type": "markdown",
   "metadata": {},
   "source": [
    "## 1°/ Si l’eau contenue dans l’échantillon prélevé est déclarée polluée par l’analyse effectuée, quelle est la probabilité que le maire se trompe en déclarant que l’eau est polluée ?"
   ]
  },
  {
   "cell_type": "markdown",
   "metadata": {},
   "source": [
    "Nous allons faire une simulation en Python pour compter sur un grand nombre d'expériences le nombre de fois ou le Maire se trompe.\n",
    "On considère les événements :\n",
    "- P : « La source du village est polluée »\n",
    "- A : « L’analyse d’un échantillon révèle que l’eau est polluée »"
   ]
  },
  {
   "cell_type": "markdown",
   "metadata": {},
   "source": [
    "### Fabrication des fonctions de simulation"
   ]
  },
  {
   "cell_type": "code",
   "execution_count": 16,
   "metadata": {},
   "outputs": [],
   "source": [
    "from random import *\n",
    "\n",
    "proba_P=0.45    # Probabilité de P\n",
    "proba_PA=0.81   # Probabilité de A sachant P\n",
    "proba_PbAb=0.79 # Probabilité de Abarre sachant Pbarre\n",
    "\n",
    "nbExp=100000"
   ]
  },
  {
   "cell_type": "code",
   "execution_count": 1,
   "metadata": {},
   "outputs": [],
   "source": [
    "def simulPollution(proba):\n",
    "    \"\"\" On simule la pollution de la rivière au cas ou la rivière déborde\n",
    "    proba est la probabilité que la rivière soit polluée en cas de débordement. 0,45 dans l'énoncé\n",
    "    renvoie True si la rivière est polluée (événement de probabilité proba)\n",
    "    \"\"\"\n",
    "    return (random()<proba)\n",
    "    "
   ]
  },
  {
   "cell_type": "markdown",
   "metadata": {},
   "source": [
    "Test de la fonction **simulPollution**"
   ]
  },
  {
   "cell_type": "code",
   "execution_count": 20,
   "metadata": {},
   "outputs": [
    {
     "name": "stdout",
     "output_type": "stream",
     "text": [
      "0.44974\n"
     ]
    }
   ],
   "source": [
    "count=0\n",
    "for i in range(nbExp):\n",
    "    if simulPollution(proba_P):\n",
    "        count+=1\n",
    "print(count/nbExp)"
   ]
  },
  {
   "cell_type": "code",
   "execution_count": 25,
   "metadata": {},
   "outputs": [],
   "source": [
    "def simulAnalyse(p1,p2,estPolluee):\n",
    "    \"\"\" On simule le résultat de l'analyse :\n",
    "    Si la rivière est polluée (variable estPolluee) on renvoie Vrai avec une probabilité p1\n",
    "    Si la rivière est non polluée on renvoie Faux avec une probabilité p2\n",
    "    \"\"\"\n",
    "    if estPolluee :\n",
    "        return (random()<p1)\n",
    "    else:\n",
    "        return (random()>p2)\n"
   ]
  },
  {
   "cell_type": "markdown",
   "metadata": {},
   "source": [
    "Test de la fonction **simulAnalyse**"
   ]
  },
  {
   "cell_type": "code",
   "execution_count": 27,
   "metadata": {},
   "outputs": [
    {
     "name": "stdout",
     "output_type": "stream",
     "text": [
      "0.8093\n",
      "0.79066\n"
     ]
    }
   ],
   "source": [
    "count=0\n",
    "# On simule en cas de pollution de la riviere\n",
    "for i in range(nbExp):\n",
    "    if simulAnalyse(proba_PA,proba_PbAb,True):\n",
    "        count+=1\n",
    "print(count/nbExp)\n",
    "\n",
    "count=0\n",
    "# On simule en cas de non pollution de la riviere\n",
    "for i in range(nbExp):\n",
    "    if not simulAnalyse(proba_PA,proba_PbAb,False):\n",
    "        count+=1\n",
    "print(count/nbExp)"
   ]
  },
  {
   "cell_type": "markdown",
   "metadata": {},
   "source": [
    "Les observations effectuées sont conformes aux probabilités"
   ]
  },
  {
   "cell_type": "markdown",
   "metadata": {},
   "source": [
    "### Simulation d'un grand nombre d'expériences"
   ]
  },
  {
   "cell_type": "code",
   "execution_count": 30,
   "metadata": {},
   "outputs": [
    {
     "name": "stdout",
     "output_type": "stream",
     "text": [
      "Fréquence Pbarre inter A =  0.11646\n",
      "Fréquence Pbarre sachant A =  0.24205516180658035\n"
     ]
    }
   ],
   "source": [
    "count=0  # Nombre de fois ou le maire se trompe\n",
    "countA=0 # Nombre de fois ou l'analyse révèle un epollution\n",
    "\n",
    "for i in range(nbExp):\n",
    "    # On simule le débordement de la rivière\n",
    "    pollution=simulPollution(proba_P)\n",
    "    # On simule l'analyse de l'échantillon\n",
    "    analyse=simulAnalyse(proba_PA,proba_PbAb,pollution)\n",
    "    if analyse : # si l'eau contenue dans l'échantillon est déclarée polluée\n",
    "        countA+=1\n",
    "        if analyse != pollution : # le maire s'est-il trompé\n",
    "            count+=1 # on compte le nb de fois que le maire se trompe\n",
    "\n",
    "# Affichage du résultat de la simulation\n",
    "print(\"Fréquence Pbarre inter A = \", count/nbExp) # L'univers est l'ensemble des simulations. C'est Inter\n",
    "print(\"Fréquence Pbarre sachant A = \",count/countA) # L'univers est celui des analyse positives. C'est Sachant que A"
   ]
  },
  {
   "cell_type": "markdown",
   "metadata": {},
   "source": [
    "Ces résultats sont conformes à l'étude théorique"
   ]
  },
  {
   "cell_type": "markdown",
   "metadata": {},
   "source": [
    "## 2°/ Analyse de 3 échantillons"
   ]
  },
  {
   "cell_type": "markdown",
   "metadata": {},
   "source": [
    "On suppose que pour diminuer le risque de se tromper, l’employé municipal est chargé de prélever 3 échantillons d’eau de la source le lendemain et d’analyser séparément chaque échantillon.\n",
    "\n",
    "Si l’eau contenue dans 2 échantillons sur les 3 échantillons prélevés est déclarée polluée par l’analyse effectuée, quelle est alors la probabilité que le maire se trompe en déclarant que l’eau est polluée ?"
   ]
  },
  {
   "cell_type": "markdown",
   "metadata": {},
   "source": [
    "### Simulation"
   ]
  },
  {
   "cell_type": "markdown",
   "metadata": {},
   "source": [
    "Les fonctions de simulations fabriquées pour la question précédente fonctionnent toujours. Il faut juste refaire la simulation de l'expérience en tenant compte des 3 analyses"
   ]
  },
  {
   "cell_type": "code",
   "execution_count": 36,
   "metadata": {},
   "outputs": [
    {
     "name": "stdout",
     "output_type": "stream",
     "text": [
      "Fréquence Pbarre inter A =  0.05728\n",
      "Fréquence Pbarre sachant A =  0.2526687251874724\n"
     ]
    }
   ],
   "source": [
    "count=0  # Nombre de fois ou le maire se trompe\n",
    "countA=0 # Nombre de fois ou l'analyse révèle un epollution\n",
    "\n",
    "for i in range(nbExp):\n",
    "    # On simule le débordement de la rivière\n",
    "    pollution=simulPollution(proba_P)\n",
    "    # On simule l'analyse de l'échantillon\n",
    "    analyses=[]\n",
    "    for j in range(3): # on simule 3 analyses\n",
    "        analyses.append(simulAnalyse(proba_PA,proba_PbAb,pollution))\n",
    "    nbAnalysePositives=analyses.count(True)\n",
    "    if nbAnalysePositives==2 : # si l'eau contenue dans exactement 2 échantillons est déclarée polluée\n",
    "        countA+=1\n",
    "        if not pollution : # le maire s'est-il trompé, l'eau n'est pas polluée\n",
    "            count+=1 # on compte le nb de fois que le maire se trompe\n",
    "\n",
    "# Affichage du résultat de la simulation\n",
    "print(\"Fréquence Pbarre inter A = \", count/nbExp) # L'univers est l'ensemble des simulations. C'est Inter\n",
    "print(\"Fréquence Pbarre sachant A = \",count/countA) # L'univers est celui des analyse positives. C'est Sachant que A"
   ]
  },
  {
   "cell_type": "markdown",
   "metadata": {},
   "source": [
    "On trouve ici une proibabilité d'environ 25%"
   ]
  },
  {
   "cell_type": "markdown",
   "metadata": {},
   "source": [
    "## 3°/ Correction de l'énoncé"
   ]
  },
  {
   "cell_type": "markdown",
   "metadata": {},
   "source": [
    "On suppose que pour diminuer le risque de se tromper, l’employé municipal est chargé de prélever 3 échantillons d’eau de la source le lendemain et d’analyser séparément chaque échantillon.\n",
    "\n",
    "Si l’eau contenue dans ***au moins *** 2 échantillons sur les 3 échantillons prélevés est déclarée polluée par l’analyse effectuée, quelle est alors la probabilité que le maire se trompe en déclarant que l’eau est polluée ?"
   ]
  },
  {
   "cell_type": "code",
   "execution_count": 37,
   "metadata": {},
   "outputs": [
    {
     "name": "stdout",
     "output_type": "stream",
     "text": [
      "Fréquence Pbarre inter A =  0.06259\n",
      "Fréquence Pbarre sachant A =  0.13299477285283243\n"
     ]
    }
   ],
   "source": [
    "count=0  # Nombre de fois ou le maire se trompe\n",
    "countA=0 # Nombre de fois ou l'analyse révèle un epollution\n",
    "\n",
    "for i in range(nbExp):\n",
    "    # On simule le débordement de la rivière\n",
    "    pollution=simulPollution(proba_P)\n",
    "    # On simule l'analyse de l'échantillon\n",
    "    analyses=[]\n",
    "    for j in range(3): # on simule 3 analyses\n",
    "        analyses.append(simulAnalyse(proba_PA,proba_PbAb,pollution))\n",
    "    nbAnalysePositives=analyses.count(True)\n",
    "    if nbAnalysePositives>=2 : # si l'eau contenue dans exactement 2 échantillons est déclarée polluée\n",
    "        countA+=1\n",
    "        if not pollution : # le maire s'est-il trompé, l'eau n'est pas polluée\n",
    "            count+=1 # on compte le nb de fois que le maire se trompe\n",
    "\n",
    "# Affichage du résultat de la simulation\n",
    "print(\"Fréquence Pbarre inter A = \", count/nbExp) # L'univers est l'ensemble des simulations. C'est Inter\n",
    "print(\"Fréquence Pbarre sachant A = \",count/countA) # L'univers est celui des analyse positives. C'est Sachant que A"
   ]
  },
  {
   "cell_type": "markdown",
   "metadata": {},
   "source": [
    "On trouve ici une probabilité d'environ 13% ce qui est plus réaliste avec l'intuition que 3 tests doivent mener à moins d'erreur qu'un seul..."
   ]
  },
  {
   "cell_type": "code",
   "execution_count": null,
   "metadata": {},
   "outputs": [],
   "source": []
  }
 ],
 "metadata": {
  "kernelspec": {
   "display_name": "Python 3",
   "language": "python",
   "name": "python3"
  },
  "language_info": {
   "codemirror_mode": {
    "name": "ipython",
    "version": 3
   },
   "file_extension": ".py",
   "mimetype": "text/x-python",
   "name": "python",
   "nbconvert_exporter": "python",
   "pygments_lexer": "ipython3",
   "version": "3.6.2"
  }
 },
 "nbformat": 4,
 "nbformat_minor": 1
}
