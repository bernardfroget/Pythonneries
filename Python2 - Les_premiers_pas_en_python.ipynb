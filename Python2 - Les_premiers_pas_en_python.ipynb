{
 "cells": [
  {
   "cell_type": "markdown",
   "metadata": {},
   "source": [
    "### Validez la cellule suivante avant de commencer ce classeur"
   ]
  },
  {
   "cell_type": "code",
   "execution_count": null,
   "metadata": {
    "collapsed": true
   },
   "outputs": [],
   "source": [
    "def interro(message,reponse):\n",
    "    r=eval(input(message))\n",
    "    if r==reponse:\n",
    "        print(\"Félicitation, la réponse est correcte\")\n",
    "    else:\n",
    "        print(\"Erreur : la réponse était \",reponse)"
   ]
  },
  {
   "cell_type": "markdown",
   "metadata": {},
   "source": [
    "# Algorithmique et Programmation : premiers pas en Python"
   ]
  },
  {
   "cell_type": "markdown",
   "metadata": {},
   "source": [
    "## Les variables"
   ]
  },
  {
   "cell_type": "markdown",
   "metadata": {},
   "source": [
    "Elles sont un moyen de nommer les informations pour une utilisation dans un programme.\n",
    "- Les variables permettent de stocker des valeurs. \n",
    "- Chaque variable a un nom. Un exemple de nom de variable que nous utiliserons est <B>monNombre</B>. \n",
    "- Pour stocker de l'information dans une variable, nous écrivons une commande en utilisant le signe égal (=) dans la manière suivante :"
   ]
  },
  {
   "cell_type": "code",
   "execution_count": null,
   "metadata": {
    "collapsed": false
   },
   "outputs": [],
   "source": [
    "monNombre = 13\n",
    "print(monNombre+1)"
   ]
  },
  {
   "cell_type": "markdown",
   "metadata": {},
   "source": [
    "L'instruction suivante est très utile. Elle permet d'ajouter 1 au contenu de la variable a"
   ]
  },
  {
   "cell_type": "code",
   "execution_count": null,
   "metadata": {
    "collapsed": false
   },
   "outputs": [],
   "source": [
    "a=3\n",
    "a=a+1\n",
    "print(a)"
   ]
  },
  {
   "cell_type": "markdown",
   "metadata": {},
   "source": [
    "### Quelques explications\n",
    "Sur un plan mathématique, cette égalité n'a pas de sens. En informatique au contraire, \n",
    "- la machine va commencer par calculer le membre de droite. Ici **a+1** est évalué à 3+1=4\n",
    "- Ce résultat est ensuite stocké dans la variable **a**.\n",
    "\n",
    "Donc au final, **a** contient bien la valeur 4."
   ]
  },
  {
   "cell_type": "markdown",
   "metadata": {},
   "source": [
    "### Attention aux majuscules !\n",
    "\n",
    "Regardez l'exemple suivant :"
   ]
  },
  {
   "cell_type": "code",
   "execution_count": null,
   "metadata": {
    "collapsed": false
   },
   "outputs": [],
   "source": [
    "a=2\n",
    "print(A) # la casse (distinction entre majuscules et minuscules) est prise en compte"
   ]
  },
  {
   "cell_type": "markdown",
   "metadata": {},
   "source": [
    "### Quelques explications\n",
    "Le message d'erreur, bien qu'en anglais, est très explicite. Il faut prendre le temps de les étudier afin de comprendre vos erreurs lorsqu'elles surviennent. \n",
    "\n",
    "La variable nommée **A** n'est pas définie. En effet, la variable que nous avons créée s'appelle **a** en minuscule.\n",
    "\n",
    "En règle générale, on choisit la convention d'utiliser seulement des minuscules dans les noms de variable. ***ne jamais mettre d'espaces ni d'accents***."
   ]
  },
  {
   "cell_type": "markdown",
   "metadata": {},
   "source": [
    "### A vous de jouer\n",
    "Validez la cellule suivante. Essayez de vous mettre à la place de l'ordinateur pour deviner la valeur de **b**.\n",
    "\n",
    "Si vous obtenez une erreur, c'est que **vous n'avez pas validé la première cellule de ce classeur** comme demandé ! Validez cette première cellule puis revalidez la cellule suivante."
   ]
  },
  {
   "cell_type": "code",
   "execution_count": null,
   "metadata": {
    "collapsed": false
   },
   "outputs": [],
   "source": [
    "a=5\n",
    "b=3\n",
    "b=2*b-a\n",
    "\n",
    "interro(\"Quelle est la valeur de b ?\",b)"
   ]
  },
  {
   "cell_type": "markdown",
   "metadata": {},
   "source": [
    "## Les différents types de variable"
   ]
  },
  {
   "cell_type": "markdown",
   "metadata": {},
   "source": [
    "Les variables ne contiennent pas forcément des nombres, elles peuvent aussi abriter du texte, on parle alors de chaine de caractères."
   ]
  },
  {
   "cell_type": "code",
   "execution_count": null,
   "metadata": {
    "collapsed": false
   },
   "outputs": [],
   "source": [
    "ma_chaine=\"bonjour\"\n",
    "autre_chaine=\"tout le monde\"\n",
    "print(ma_chaine,autre_chaine)"
   ]
  },
  {
   "cell_type": "markdown",
   "metadata": {},
   "source": [
    "Vous remarquerez au passage que l'instruction **print** peut afficher plusieurs choses à condition de les séparer par des virgules.\n",
    "\n",
    "Il y a encore bien d'autres objets que l'on peut mettre dans des variables. En voici quelques exemples, mais il en existe d'autres encore."
   ]
  },
  {
   "cell_type": "markdown",
   "metadata": {},
   "source": [
    "- *int* : entiers (ex : -2 ; 5)\n",
    "- *float* : décimal (ex -2.0 ; 2e6=2000000.0)\n",
    "- *str* : chaîne de caractère (ex 'Bonjour' ; \"Autre exemple\" ; \"2+3\" ; \"5\")\n",
    "- *bool* : Booléen : Vrai ou Faux. (ex : 2==3, False, 3<4)\n",
    "- *list* : Tableau ou liste (ex : [1,'toto', 2.0] ; [[1,2],[3,4]])"
   ]
  },
  {
   "cell_type": "code",
   "execution_count": null,
   "metadata": {
    "collapsed": false
   },
   "outputs": [],
   "source": [
    "chaine=\"Je suis une chaîne de caractère\"\n",
    "print(\"chaine est de type\",type(chaine))\n",
    "nombre=3.14\n",
    "print(nombre, \"est de type\",type(nombre))"
   ]
  },
  {
   "cell_type": "markdown",
   "metadata": {},
   "source": [
    "Comme vous pouvez le voir, contrairement à d'autres langages comme Algobox, Python devine tout seul le type des variables. Il est inutile de lui préciser par avance. Cela est extrèmement pratique !\n",
    "\n",
    "Même si ce n'est pas conseillé, on peut aussi changer de type en cours de route :"
   ]
  },
  {
   "cell_type": "code",
   "execution_count": null,
   "metadata": {
    "collapsed": false
   },
   "outputs": [],
   "source": [
    "a=\"Je suis une chaîne\"\n",
    "print(a)\n",
    "a=12 # et maintenenant je suis un nombre !!!\n",
    "print(a)"
   ]
  },
  {
   "cell_type": "markdown",
   "metadata": {},
   "source": [
    "## Instruction Saisir"
   ]
  },
  {
   "cell_type": "markdown",
   "metadata": {},
   "source": [
    "Avant d'entammer les boucles et les différents algorithmes, nous allons découvrir comment sous Python on réalise la saisie interactive d'une valeur dans une variable."
   ]
  },
  {
   "cell_type": "code",
   "execution_count": null,
   "metadata": {
    "collapsed": false
   },
   "outputs": [],
   "source": [
    "x=eval(input(\"Saisir la valeur de x : \"))\n",
    "\n",
    "print(\"vous avez saisi la valeur\",x)"
   ]
  },
  {
   "cell_type": "markdown",
   "metadata": {},
   "source": [
    "On utilise donc la fonction \n",
    ">     eval(input(\"Texte affiché à l'utilisateur\"))\n",
    "\n",
    "L'avantage de cette fonction est que le contenu de la ligne est évalué. Vous pouvez vous amuser à saisir `2+2` !"
   ]
  }
 ],
 "metadata": {
  "kernelspec": {
   "display_name": "Python 3",
   "language": "python",
   "name": "python3"
  },
  "language_info": {
   "codemirror_mode": {
    "name": "ipython",
    "version": 3
   },
   "file_extension": ".py",
   "mimetype": "text/x-python",
   "name": "python",
   "nbconvert_exporter": "python",
   "pygments_lexer": "ipython3",
   "version": "3.4.3"
  },
  "widgets": {
   "state": {},
   "version": "1.1.2"
  }
 },
 "nbformat": 4,
 "nbformat_minor": 0
}
