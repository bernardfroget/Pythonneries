{
 "cells": [
  {
   "cell_type": "markdown",
   "metadata": {},
   "source": [
    "Afin de pouvoir personnaliser votre classeur sans détruire le classeur sur lequel travaille votre voisin, vous allez tout d'abord aller dans le menu **`File`** puis **`Make a copy...`**. Renommez le classeur en ajoutant votre nom à la fin du nom de fichier par exemple."
   ]
  },
  {
   "cell_type": "markdown",
   "metadata": {},
   "source": [
    "# Construction de la fonction exponentielle"
   ]
  },
  {
   "cell_type": "markdown",
   "metadata": {},
   "source": [
    "Dans cette activité, nous supposerons que $f$ est une fonction **définie et dérivable sur** $\\mathbb R$ et qui vérifie :\n",
    "- $f(0)=1$\n",
    "- $f'(x)=f(x)$ pour tout $x$ réel\n",
    "\n",
    "Dans ces conditions, nous allons construire un algorithme permettant de calculer des valeurs approchées de la fonction $f$."
   ]
  },
  {
   "cell_type": "markdown",
   "metadata": {},
   "source": [
    "## Elaboration de l'algorithme pour les réels positifs"
   ]
  },
  {
   "cell_type": "markdown",
   "metadata": {},
   "source": [
    "Supposons qu'en un réel $x_0$, l'image $f(x_0)$ soit connue."
   ]
  },
  {
   "cell_type": "markdown",
   "metadata": {},
   "source": [
    "**1°/** Quelle est la pente de la tangente $T$ à la courbe représentative de la fonction $f$ au point d'abscisse $x_0$ ?"
   ]
  },
  {
   "cell_type": "markdown",
   "metadata": {},
   "source": [
    "$f'(x_0)$"
   ]
  },
  {
   "cell_type": "markdown",
   "metadata": {},
   "source": [
    "**2°/** On suppose qu'on effectue un petit déplacement $dx$ à partir de $x_0$ vers la droite. Quel est le déplacement vertical $dy$ correspondant sur la tangente ?\n",
    "![](http://s25.postimg.org/4qakwxumn/Capture_d_cran_2014_11_06_08_45_02.png)"
   ]
  },
  {
   "cell_type": "code",
   "execution_count": null,
   "metadata": {
    "collapsed": true
   },
   "outputs": [],
   "source": [
    "Votre réponse ici..."
   ]
  },
  {
   "cell_type": "markdown",
   "metadata": {},
   "source": [
    "**3°/** On cherche à construire un algorithme permettant de calculer $f(1)$. Complétez l'algorithme ci-dessous en conséquence.\n",
    "<PRE>\n",
    "    Initialisation\n",
    "        dx prend la valeur 0,5\n",
    "        x0 prend la valeur ...\n",
    "        fx0 prend la valeur ...\n",
    "    Traitement\n",
    "        Tant Que ... Faire\n",
    "            dy prend la valeur ...\n",
    "            x0 prend la valeur x0+dx\n",
    "            fx0 prend la valeur ...\n",
    "        Fin tant que \n",
    "    Sortie\n",
    "        Afficher ...\n",
    "</PRE>"
   ]
  },
  {
   "cell_type": "markdown",
   "metadata": {},
   "source": [
    "## Programmation de l'algorithme"
   ]
  },
  {
   "cell_type": "markdown",
   "metadata": {},
   "source": [
    "**1°/** On souhaite programmer l'algorithme ci-dessus en Python. Complétez le programme ci-dessous."
   ]
  },
  {
   "cell_type": "code",
   "execution_count": null,
   "metadata": {},
   "outputs": [],
   "source": [
    "dx=0.5\n",
    "x0=...\n",
    "fx0=...\n",
    "while ...:\n",
    "    dy=...\n",
    "    x0=x0+dx\n",
    "    fx0=...\n",
    "print(...)"
   ]
  },
  {
   "cell_type": "markdown",
   "metadata": {},
   "source": [
    "**2°/** Nous avions trouvé en cours qu'avec un pas de 0,5 (en séparant l'intervalle [0;1] en deux parties), nous trouvions f(1)\\approx 2,25. Cela est-il cohérent avec la réponse de notre programme ?"
   ]
  },
  {
   "cell_type": "markdown",
   "metadata": {},
   "source": [
    "Votre réponse ici..."
   ]
  },
  {
   "cell_type": "markdown",
   "metadata": {},
   "source": [
    "Nous souhaitons aumgmenter la précision de la réponse. Que doit-on changer dans le programme pour obtenir une valeur plus précise de $f(1)$ ?\n",
    "\n",
    "Modifier votre programme en conséquence pour donner une valeur approchée de $f(1)$ à 0,1 près."
   ]
  },
  {
   "cell_type": "markdown",
   "metadata": {},
   "source": [
    "Votre réponse ici ..."
   ]
  },
  {
   "cell_type": "code",
   "execution_count": null,
   "metadata": {},
   "outputs": [],
   "source": [
    "# Votre programme modifié ici ..."
   ]
  },
  {
   "cell_type": "markdown",
   "metadata": {},
   "source": [
    "Votre réponse ..."
   ]
  },
  {
   "cell_type": "markdown",
   "metadata": {},
   "source": [
    "Comparer ce résultat avec exp(1)"
   ]
  },
  {
   "cell_type": "code",
   "execution_count": null,
   "metadata": {},
   "outputs": [],
   "source": [
    "exp(1)"
   ]
  },
  {
   "cell_type": "markdown",
   "metadata": {},
   "source": [
    "Votre réponse ici ..."
   ]
  },
  {
   "cell_type": "markdown",
   "metadata": {},
   "source": [
    "**3°/** Modifier votre programme pour donner une valeur approchée de exp(2.4). \n",
    "\n",
    "Comparer votre réponse avec la valeur donnée par la calculatrice (ou Python)."
   ]
  },
  {
   "cell_type": "code",
   "execution_count": null,
   "metadata": {},
   "outputs": [],
   "source": [
    "# Votre programme modifié ici ..."
   ]
  },
  {
   "cell_type": "markdown",
   "metadata": {},
   "source": [
    "## Calcul pour les réels négatifs"
   ]
  },
  {
   "cell_type": "markdown",
   "metadata": {},
   "source": [
    "**1°/** Modifier votre programme de manière à calculer $f(-1)$ puis $f(-2,4)$"
   ]
  },
  {
   "cell_type": "code",
   "execution_count": null,
   "metadata": {},
   "outputs": [],
   "source": [
    "# Votre programme modifié ici ..."
   ]
  },
  {
   "cell_type": "code",
   "execution_count": null,
   "metadata": {},
   "outputs": [],
   "source": [
    "# Votre programme modifié ici ..."
   ]
  },
  {
   "cell_type": "markdown",
   "metadata": {},
   "source": [
    "**2°/** En vous aidant des valeurs calculées précédemment, calculer \n",
    "- $f(-1)\\times f(1)$\n",
    "- $f(-2,4)\\times f(2,4)$\n",
    "\n",
    "Que remarquez-vous ?"
   ]
  },
  {
   "cell_type": "code",
   "execution_count": null,
   "metadata": {},
   "outputs": [],
   "source": []
  },
  {
   "cell_type": "code",
   "execution_count": null,
   "metadata": {},
   "outputs": [],
   "source": []
  },
  {
   "cell_type": "markdown",
   "metadata": {},
   "source": [
    "Votre réponse ici ..."
   ]
  },
  {
   "cell_type": "code",
   "execution_count": null,
   "metadata": {},
   "outputs": [],
   "source": []
  },
  {
   "cell_type": "markdown",
   "metadata": {},
   "source": [
    "# Bilan de l'activité"
   ]
  },
  {
   "cell_type": "markdown",
   "metadata": {},
   "source": [
    "Nous avons réussi à construire un algorithme permettant de calculer avec autant de précision qu'on le souhaite les valeurs d'une fonction $f$ vérifiant\n",
    "- $f(0)=1$\n",
    "- $f'(x)=f(x)$ pour tout $x$ réel\n",
    "\n",
    "Nous avons pu calculer cette fonction pour n'importe quel $x$ réel. Cela nous permet de nous convaincre de l'existance de la fonction exponentielle définie sur $\\mathbb R$ par les deux propriétés citées ci-dessus, même si cela ne constitue pas une preuve formelle."
   ]
  },
  {
   "cell_type": "code",
   "execution_count": null,
   "metadata": {},
   "outputs": [],
   "source": []
  }
 ],
 "metadata": {
  "kernelspec": {
   "display_name": "Python 3",
   "language": "python",
   "name": "python3"
  },
  "language_info": {
   "codemirror_mode": {
    "name": "ipython",
    "version": 3
   },
   "file_extension": ".py",
   "mimetype": "text/x-python",
   "name": "python",
   "nbconvert_exporter": "python",
   "pygments_lexer": "ipython3",
   "version": "3.6.2"
  }
 },
 "nbformat": 4,
 "nbformat_minor": 1
}
