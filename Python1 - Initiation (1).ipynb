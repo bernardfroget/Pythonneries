{
 "cells": [
  {
   "cell_type": "markdown",
   "metadata": {},
   "source": [
    "# Introduction à Python avec Jupyter"
   ]
  },
  {
   "cell_type": "markdown",
   "metadata": {},
   "source": [
    "## Python ? Jupyter ? kézako ??"
   ]
  },
  {
   "cell_type": "markdown",
   "metadata": {},
   "source": [
    "Python est un langage de programmation très utilisé dans l'industrie ainsi que dans le domaine de la recherche. Il est étudié à l'université et en classe préparatoires. Il se développe également de plus en plus en lycée - plusieurs manuels scolaires de lycée y font maintenant référence. ![Python logo](https://respawner.fr/blog/public/Divers/.python_t.jpg)"
   ]
  },
  {
   "cell_type": "markdown",
   "metadata": {},
   "source": [
    "Jupyter est un environnement interactif permettant l'exécution de python. Vous en avez l'illustration sous les yeux puisque c'est Jupyter qui vous amène le langage Python dans votre navigateur internet !\n",
    "\n",
    "C'est un outil très riche car il permet de mélanger en un seul lieu des explications et des morceaux de programme. Jupyter est en quelque sorte un cahier de brouillon interactif ! "
   ]
  },
  {
   "cell_type": "markdown",
   "metadata": {},
   "source": [
    "## Concrêtement, comment ça marche ?"
   ]
  },
  {
   "cell_type": "markdown",
   "metadata": {},
   "source": [
    "Vous pouvez à tout moment changer le type d'une cellule grâce à la liste déroulante sur la barre d'outils. Vous pouvez choisir entre :\n",
    "- code : la cellule contient alors des instructions Python qui seront interprétées\n",
    "- Markdown : la cellule contient alors du texte qui sera juste affiché\n",
    "- Heading x : la cellule s'affichera comme un titre de section.\n",
    "\n",
    "Pour valider une cellule, appuyez sur la touche `shift-enter` ou bien cliquez sur le bouton **play** de la barre d'icônes.\n",
    "\n",
    "Regardez ci-dessous votre première ligne de code Python : Simple n'est-ce pas ?"
   ]
  },
  {
   "cell_type": "code",
   "execution_count": null,
   "metadata": {
    "collapsed": false
   },
   "outputs": [],
   "source": [
    "2+2"
   ]
  },
  {
   "cell_type": "markdown",
   "metadata": {},
   "source": [
    "Pour insérer une nouvelle cellule à un emplacement du texte, cliquez sur la cellule où vous voulez faire des modifications puis cliquez sur le bouton **+** de la barre d'icônes.\n",
    "\n",
    "Pour modifier une cellule, double-cliquez dessus tout simplement."
   ]
  },
  {
   "cell_type": "markdown",
   "metadata": {
    "collapsed": false
   },
   "source": [
    "## Hello world\n",
    "\n",
    "Voici à présent votre premier programme : afficher le texte ***Hello world***. Validez la cellule ci-dessous pour exécuter le programme"
   ]
  },
  {
   "cell_type": "code",
   "execution_count": null,
   "metadata": {
    "collapsed": false
   },
   "outputs": [],
   "source": [
    "print(\"Hello World\")"
   ]
  },
  {
   "cell_type": "markdown",
   "metadata": {},
   "source": [
    "### Explications\n",
    "\n",
    "Vous remarquerez :\n",
    "- l'utilisation du mot clé ***print*** pour réaliser un affichage\n",
    "- les parenthèses () après la commande ***print*** sont utilisées pour contenir ce que vous voulez afficher.\n",
    "- qu'un texte est délimité par des guillemets (\" ou parfois ')"
   ]
  },
  {
   "cell_type": "code",
   "execution_count": null,
   "metadata": {
    "collapsed": true
   },
   "outputs": [],
   "source": []
  }
 ],
 "metadata": {
  "kernelspec": {
   "display_name": "Python 3",
   "language": "python",
   "name": "python3"
  },
  "language_info": {
   "codemirror_mode": {
    "name": "ipython",
    "version": 3
   },
   "file_extension": ".py",
   "mimetype": "text/x-python",
   "name": "python",
   "nbconvert_exporter": "python",
   "pygments_lexer": "ipython3",
   "version": "3.4.3"
  },
  "widgets": {
   "state": {},
   "version": "1.1.2"
  }
 },
 "nbformat": 4,
 "nbformat_minor": 0
}
