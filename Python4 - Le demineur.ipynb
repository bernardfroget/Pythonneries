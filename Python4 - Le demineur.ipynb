{
 "cells": [
  {
   "cell_type": "markdown",
   "metadata": {},
   "source": [
    "# Le démineur"
   ]
  },
  {
   "cell_type": "markdown",
   "metadata": {},
   "source": [
    "## Un tableau à deux dimensions"
   ]
  },
  {
   "cell_type": "markdown",
   "metadata": {},
   "source": [
    "Nous savons qu'il est possible de mettre dans des listes tout type d'objets, et donc pourquoi pas... des listes ! Nous pouvons donc obtenir ainsi des tableaux à deux dimensions. L'exemple suivant montre la création manuelle d'un tableau 3x3."
   ]
  },
  {
   "cell_type": "code",
   "execution_count": 1,
   "metadata": {},
   "outputs": [
    {
     "name": "stdout",
     "output_type": "stream",
     "text": [
      "3\n"
     ]
    }
   ],
   "source": [
    "tableau=[[1, 2, 3],[4,5,6], [7,8,9]]\n",
    "print (tableau[0][2])"
   ]
  },
  {
   "cell_type": "markdown",
   "metadata": {},
   "source": [
    "## Construction d'une grille"
   ]
  },
  {
   "cell_type": "markdown",
   "metadata": {},
   "source": [
    "### Construire une ligne"
   ]
  },
  {
   "cell_type": "markdown",
   "metadata": {},
   "source": [
    "Ecrire un programme permettant de construire une liste ***ligne*** contenant 10 fois la valeur 0\n",
    "***Conseils*** :\n",
    "- pour initialiser notre ligne, on pourra utiliser une liste vide ⌷\n",
    "- on pourra utiliser une boucle *pour*\n",
    "- on pourra utiliser la fonction **ligne.append(0)** qui permet d'ajouter un 0 à la liste"
   ]
  },
  {
   "cell_type": "code",
   "execution_count": null,
   "metadata": {},
   "outputs": [],
   "source": [
    "# Votre programme ici \n"
   ]
  },
  {
   "cell_type": "markdown",
   "metadata": {},
   "source": [
    "Vérification : La cellule suivante doit retourner \n",
    "\n",
    "    [0, 0, 0, 0, 0, 0, 0, 0, 0, 0]"
   ]
  },
  {
   "cell_type": "code",
   "execution_count": null,
   "metadata": {},
   "outputs": [],
   "source": [
    "print(ligne)"
   ]
  },
  {
   "cell_type": "markdown",
   "metadata": {},
   "source": [
    "On souhaite à présent remplacer quelques 0 aléatoirement par des 1. Fixons la probabilité d'avoir 1 à 0,2. \n",
    "\n",
    "Voici comment mathématiquement nous pouvons obtenir 0 ou 1 avec une probabilité de 0,2 d'avoir 1. Il s'agit ici d'exploiter le fait que la fonction random()+0.2 renvoie un nombre entre 0.2 et 1.2...\n",
    "\n",
    "En validant la cellule ci-dessous plusieurs fois, vous devriez obtenir 1 de temps en temps."
   ]
  },
  {
   "cell_type": "code",
   "execution_count": null,
   "metadata": {},
   "outputs": [],
   "source": [
    "from random import *\n",
    "\n",
    "p=0.2\n",
    "print(int(random()+p))"
   ]
  },
  {
   "cell_type": "markdown",
   "metadata": {},
   "source": [
    "A présent, utilisez cette astuce de calcul pour créer une ligne contenant 1 de temps en temps avec une probabilité de 0.2."
   ]
  },
  {
   "cell_type": "code",
   "execution_count": null,
   "metadata": {},
   "outputs": [],
   "source": [
    "# Votre programme ici \n"
   ]
  },
  {
   "cell_type": "markdown",
   "metadata": {},
   "source": [
    "Vérification : La cellule suivante doit retourner quelque chose ressemblant à ceci :\n",
    "\n",
    "    [0, 0, 1, 1, 1, 0, 0, 0, 0, 0]"
   ]
  },
  {
   "cell_type": "code",
   "execution_count": null,
   "metadata": {},
   "outputs": [],
   "source": [
    "print(ligne)"
   ]
  },
  {
   "cell_type": "markdown",
   "metadata": {},
   "source": [
    "## construire une grille"
   ]
  },
  {
   "cell_type": "markdown",
   "metadata": {},
   "source": [
    "Une grille - ou un tableau à deux dimensions - est en réalité une liste de lignes. Chaque ligne est construite selon le même procédé que celui utilisé ci-dessus.\n",
    "\n",
    "Pour construire notre grille, nous allons donc construire une liste de 10 éléments comme précédemment, mais au lieu de mettre 0 ou 1, nous mettrons une ligne que nous construirons selon le procédé déjà utilisé.\n",
    "\n",
    "***conseils*** :\n",
    "- Vous pourrez utiliser deux boucles **pour** imbriquées l'une dans l'autre.\n",
    "- vous pourrez construire votre grille dans une variable **grille** que vous initialiserez à [ ]\n",
    "- Vous remplirez votre grille grâce à l'appel grille.append(ligne) après chaque construction d'une ligne"
   ]
  },
  {
   "cell_type": "code",
   "execution_count": null,
   "metadata": {},
   "outputs": [],
   "source": [
    "from random import *\n",
    "\n",
    "# votre programme ici\n"
   ]
  },
  {
   "cell_type": "markdown",
   "metadata": {},
   "source": [
    "Vérification : La cellule suivante doit afficher quelque chose ressemblant à ceci :\n",
    "\n",
    "    [[0, 0, 0, 0, 0, 0, 1, 0, 0, 0],\n",
    "     [1, 0, 0, 0, 0, 0, 1, 0, 1, 0],\n",
    "     [0, 0, 0, 0, 0, 0, 0, 0, 0, 0],\n",
    "     [0, 0, 0, 0, 0, 0, 0, 0, 0, 0],\n",
    "     [0, 0, 0, 0, 0, 1, 0, 1, 0, 1],\n",
    "     [0, 0, 0, 0, 0, 0, 0, 0, 0, 0],\n",
    "     [1, 0, 0, 0, 0, 0, 0, 1, 0, 0],\n",
    "     [0, 0, 1, 0, 0, 0, 0, 0, 0, 0],\n",
    "     [0, 0, 1, 0, 0, 0, 1, 0, 0, 0],\n",
    "     [0, 0, 0, 0, 0, 1, 0, 0, 0, 1]]"
   ]
  },
  {
   "cell_type": "code",
   "execution_count": null,
   "metadata": {},
   "outputs": [],
   "source": [
    "grille"
   ]
  },
  {
   "cell_type": "markdown",
   "metadata": {},
   "source": [
    "Félicitations votre grille est créée !"
   ]
  },
  {
   "cell_type": "markdown",
   "metadata": {},
   "source": [
    "## Jouer un coup"
   ]
  },
  {
   "cell_type": "markdown",
   "metadata": {},
   "source": [
    "A présent, demander à l'utilisateur de saisir un numéro de ligne et de colonne (entre 0 et 9).\n",
    "- Si cela correspond à une case contenant 0, écrire le chiffre 2 dans cette case\n",
    "- Si cela correspond à une case contenant 1, afficher \"Boooouum\"\n",
    "- Si cela correspond à une case contenant 2, afficher \"Case déjà découverte\"\n",
    "\n",
    "***Conseils*** : \n",
    "- On pourra utiliser notre variable grille déjà construite. Pour refaire une grille propre, revalider la cellule permettant de construire cette grille.\n",
    "- Pour saisir un nombre, on pourra utiliser :  \n",
    "        l=int(input(\"Saisir un numero de ligne\"))\n",
    "- Pour faire un test comportant un *sinon ... si*, on pourra utiliser la structure Python suivante :  \n",
    "        if condition :\n",
    "            bloc d'instructions à réaliser\n",
    "            si condition est vraie\n",
    "        elif autreCondition :\n",
    "            bloc d'instructions à réaliser\n",
    "            si autreCOndition est vraie\n",
    "        else :\n",
    "            bloc d'instructions à réaliser\n",
    "            si aucune condition n'est vraie\n",
    "- l'accès à l'élément de la grille à la colonne ***c*** et la ligne ***l*** se fait par \n",
    "        grille[l][c]"
   ]
  },
  {
   "cell_type": "code",
   "execution_count": null,
   "metadata": {},
   "outputs": [],
   "source": [
    "# Taper votre code ici"
   ]
  },
  {
   "cell_type": "markdown",
   "metadata": {},
   "source": [
    "Vérifiez en validant la cellule ci-dessous que des 2 ont bien été positionnés sur les cellules découvertes"
   ]
  },
  {
   "cell_type": "code",
   "execution_count": null,
   "metadata": {},
   "outputs": [],
   "source": [
    "grille"
   ]
  },
  {
   "cell_type": "markdown",
   "metadata": {},
   "source": [
    "## Jouer une partie"
   ]
  },
  {
   "cell_type": "markdown",
   "metadata": {},
   "source": [
    "A présent, nous voulons jouer une partie entière, à savoir demander à l'utilisateur de jouer un coup jusqu'à ce qu'on tombe sur une mine.\n",
    "***Conseils*** :\n",
    "- Ne conaissant pas par avance le nombre de coups à jouer, utiliser une boucle ***Tant que*** contenant le programme jouer un coup déjà réalisé\n",
    "- Créer une variable booleenne **toutVaBien** initialisée à **True** afin de mémorisé quand on tombe sur une mine. En cas d'explosion, on pourra positionner cette variable à **False**."
   ]
  },
  {
   "cell_type": "code",
   "execution_count": null,
   "metadata": {},
   "outputs": [],
   "source": [
    "# Recalculer une grille propre en copiant collant le code déjà existant pour fabriquer une grille propre\n"
   ]
  },
  {
   "cell_type": "code",
   "execution_count": null,
   "metadata": {},
   "outputs": [],
   "source": [
    "# Ecrire le code permettant de jouer une partie ici\n"
   ]
  },
  {
   "cell_type": "markdown",
   "metadata": {},
   "source": [
    "Modifier le programme ci-dessus pour mémoriser le nombre de coups utilisés. Afficher le nombre de coup en fin de partie.\n",
    "\n",
    "**Conseil** : On pourra utiliser une variable **nbCoups** initialisée à 0, que l'on incrémentera à chaque tentative."
   ]
  },
  {
   "cell_type": "code",
   "execution_count": null,
   "metadata": {},
   "outputs": [],
   "source": [
    "# Ecrire le code permettant de jouer une partie ici\n"
   ]
  },
  {
   "cell_type": "markdown",
   "metadata": {},
   "source": [
    "Compter le nombre de cases découvertes\n",
    "\n",
    "***Conseil*** : On pourra utiliser la méthode **.count(element)** sur chacune des lignes de la grille et ajouter le tout"
   ]
  },
  {
   "cell_type": "code",
   "execution_count": null,
   "metadata": {},
   "outputs": [],
   "source": [
    "# Tapez votre ligne ici\n"
   ]
  },
  {
   "cell_type": "code",
   "execution_count": null,
   "metadata": {},
   "outputs": [],
   "source": [
    "grille"
   ]
  },
  {
   "cell_type": "code",
   "execution_count": null,
   "metadata": {},
   "outputs": [],
   "source": []
  }
 ],
 "metadata": {
  "kernelspec": {
   "display_name": "Python 3",
   "language": "python",
   "name": "python3"
  },
  "language_info": {
   "codemirror_mode": {
    "name": "ipython",
    "version": 3
   },
   "file_extension": ".py",
   "mimetype": "text/x-python",
   "name": "python",
   "nbconvert_exporter": "python",
   "pygments_lexer": "ipython3",
   "version": "3.6.2"
  }
 },
 "nbformat": 4,
 "nbformat_minor": 1
}
