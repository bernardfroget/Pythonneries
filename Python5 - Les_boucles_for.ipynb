{
 "cells": [
  {
   "cell_type": "markdown",
   "metadata": {},
   "source": [
    "# La boucle for"
   ]
  },
  {
   "cell_type": "markdown",
   "metadata": {},
   "source": [
    "La boucle ***for*** est aussi une structure très importante en programmation. Comme pour l'instruction ***while*** nous avons affaire à une boucle, mais les conditions de répétitions sont un peu différentes.\n",
    "\n",
    "Dans le cas d'une boucle ***for***, on sait dès le départ le nombre de répétitions à effectuer. La boucle ***for*** va faire automatiquement le bon nombre de répétitions.\n",
    "\n",
    "Exécutez et analysez la cellule suivante :"
   ]
  },
  {
   "cell_type": "code",
   "execution_count": null,
   "metadata": {
    "collapsed": false
   },
   "outputs": [],
   "source": [
    "for i in range(5):\n",
    "    print(\"je répète 5 fois la même chose. Ici, i=\",i)"
   ]
  },
  {
   "cell_type": "markdown",
   "metadata": {},
   "source": [
    "*** Importance du symbole : ***\n",
    "Remarquez bien le `:` après le range. Cela marque le début du *bloc* d'instructions qui sera répété 5 fois.\n",
    "\n",
    "La variable **i** permet de stocker le nombre de tours de boucles déjà effectués. Il commence à compter à partir de 0 donc dans l'exemple ci-dessus, la boucle s'arrête pour **i=4**."
   ]
  },
  {
   "cell_type": "markdown",
   "metadata": {},
   "source": [
    "On peut paramétrer un peu l'instruction `range` :\n",
    ">    range(1,10)\n",
    "\n",
    "Le compteur commencera à 1 et s'arrêtera à ***9***"
   ]
  },
  {
   "cell_type": "markdown",
   "metadata": {},
   "source": [
    "Exemple : Expérimenter et expliquer les valeurs prises par la variable `i` dans la boucle \n",
    ">   for i in range( 3,15,2) :"
   ]
  },
  {
   "cell_type": "code",
   "execution_count": null,
   "metadata": {
    "collapsed": false
   },
   "outputs": [],
   "source": [
    "# expérimenter votre code ici"
   ]
  },
  {
   "cell_type": "markdown",
   "metadata": {},
   "source": [
    "### Exercice"
   ]
  },
  {
   "cell_type": "markdown",
   "metadata": {},
   "source": [
    "Ecrire un programme qui demande un nombre à l'utilisateur et qui affiche la table de multiplication de ce nombre. L'affichage de sortie ressemblera à ceci :\n",
    "\n",
    "<PRE>\n",
    "table de 7 : \n",
    "1 x 7= 7\n",
    "2 x 7= 14\n",
    "3 x 7= 21\n",
    "4 x 7= 28\n",
    "5 x 7= 35\n",
    "6 x 7= 42\n",
    "7 x 7= 49\n",
    "8 x 7= 56\n",
    "9 x 7= 63\n",
    "</PRE>\n",
    "Deux lignes de Python suffisent..."
   ]
  },
  {
   "cell_type": "code",
   "execution_count": null,
   "metadata": {
    "collapsed": true
   },
   "outputs": [],
   "source": []
  }
 ],
 "metadata": {
  "kernelspec": {
   "display_name": "Python 3",
   "language": "python",
   "name": "python3"
  },
  "language_info": {
   "codemirror_mode": {
    "name": "ipython",
    "version": 3
   },
   "file_extension": ".py",
   "mimetype": "text/x-python",
   "name": "python",
   "nbconvert_exporter": "python",
   "pygments_lexer": "ipython3",
   "version": "3.4.3"
  },
  "widgets": {
   "state": {},
   "version": "1.1.2"
  }
 },
 "nbformat": 4,
 "nbformat_minor": 0
}
