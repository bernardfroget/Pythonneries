{
 "cells": [
  {
   "cell_type": "markdown",
   "metadata": {},
   "source": [
    "### Validez la cellule suivante avant de commencer ce classeur"
   ]
  },
  {
   "cell_type": "code",
   "execution_count": null,
   "metadata": {
    "collapsed": true
   },
   "outputs": [],
   "source": [
    "def interro(message,reponse):\n",
    "    r=eval(input(message))\n",
    "    if r==reponse:\n",
    "        print(\"Félicitation, la réponse est correcte\")\n",
    "    else:\n",
    "        print(\"Erreur : la réponse était \",reponse)"
   ]
  },
  {
   "cell_type": "markdown",
   "metadata": {},
   "source": [
    "# Découverte des objets listes"
   ]
  },
  {
   "cell_type": "markdown",
   "metadata": {},
   "source": [
    "Les listes sont des objets très importants en Python car elles permettent de stocker de multiples informations dans une seule variable.\n",
    "\n",
    "Pour déclarer une liste, la syntaxe est la suivante :"
   ]
  },
  {
   "cell_type": "code",
   "execution_count": null,
   "metadata": {
    "collapsed": false
   },
   "outputs": [],
   "source": [
    "ma_liste=[1,2,3,4,5,6,7,8,9]\n",
    "print(ma_liste)"
   ]
  },
  {
   "cell_type": "markdown",
   "metadata": {},
   "source": [
    "- Une liste est délimitée par des crochets. Elle contient autant de valeurs que la mémoire de l'ordinateur le permet. \n",
    "- Le contenu d'une liste peut être de n'importe quel type (nombre, chaîne de caractères, voir même liste !!)\n",
    "- On peut accéder à chaque élément d'une liste en utilisant un indice. Les indices de liste commencent à 0.\n",
    "\n",
    "Exécutez et analysez la cellule suivante qui illustre ces propriétés :"
   ]
  },
  {
   "cell_type": "code",
   "execution_count": null,
   "metadata": {
    "collapsed": false
   },
   "outputs": [],
   "source": [
    "ma_liste=[1,2,\"un texte\",3==4,[3,4]]\n",
    "print(ma_liste[0])\n",
    "print(ma_liste[2])"
   ]
  },
  {
   "cell_type": "markdown",
   "metadata": {},
   "source": [
    "### Quelques questions..."
   ]
  },
  {
   "cell_type": "code",
   "execution_count": null,
   "metadata": {
    "collapsed": false
   },
   "outputs": [],
   "source": [
    "interro(\"Que vaut l'expression ma_liste[3] ?\",ma_liste[3])"
   ]
  },
  {
   "cell_type": "code",
   "execution_count": null,
   "metadata": {
    "collapsed": false
   },
   "outputs": [],
   "source": [
    "interro(\"Quel indice ma_liste[?] faut-il mettre pour récupérer la liste [3,4] ?\",ma_liste.index([3,4]))"
   ]
  },
  {
   "cell_type": "markdown",
   "metadata": {},
   "source": [
    "### Premières manipulations sur les listes\n",
    "Créez une variable ***liste_carres*** contenant la liste les carrés des entiers de 1 à 10"
   ]
  },
  {
   "cell_type": "code",
   "execution_count": null,
   "metadata": {
    "collapsed": true
   },
   "outputs": [],
   "source": [
    "liste_carres = [1,5,9,16,25,36,49,64,81,100]"
   ]
  },
  {
   "cell_type": "markdown",
   "metadata": {},
   "source": [
    "Il est possible de modifier un élément particulier d'une liste. Il suffit de faire une affectation au moyen du signe = comme pour une simple variable. Observez plutôt :"
   ]
  },
  {
   "cell_type": "code",
   "execution_count": null,
   "metadata": {
    "collapsed": false
   },
   "outputs": [],
   "source": [
    "liste_carres[1]=4\n",
    "print(liste_carres)"
   ]
  },
  {
   "cell_type": "markdown",
   "metadata": {},
   "source": [
    "On peut rechercher si un élément dans une liste. Par exemple pour savoir si 25 est un carré, on peut taper la ligne suivante.\n",
    "\n",
    "Manipulez cette fonction en testant des nombres qui sont dans la liste et d'autres qui n'y sont pas.\n",
    "\n",
    "On sera frappé par la similitude entre la syntaxe de python et le langage naturel. Cette simplicité est une des forces de Python."
   ]
  },
  {
   "cell_type": "code",
   "execution_count": null,
   "metadata": {
    "collapsed": false
   },
   "outputs": [],
   "source": [
    "25 in liste_carres"
   ]
  },
  {
   "cell_type": "markdown",
   "metadata": {},
   "source": [
    "### Exemple : tester si un nombre est un carré\n",
    "Validez la cellule suivante en essayant les valeurs 36 puis 72 puis 123"
   ]
  },
  {
   "cell_type": "code",
   "execution_count": null,
   "metadata": {
    "collapsed": false
   },
   "outputs": [],
   "source": [
    "nombre=eval(input(\"Saisir un nombre \"))\n",
    "if nombre in liste_carres:\n",
    "    print(nombre,\"est un carré\")\n",
    "elif nombre <= 100:\n",
    "    print(\"nombre n'est pas un carré\")\n",
    "else:\n",
    "    print(\"Je ne sais pas répondre\")"
   ]
  },
  {
   "cell_type": "markdown",
   "metadata": {},
   "source": [
    "Vous remarquerez une version élaborée de la structure if: ... else ... :\n",
    "\n",
    "Le mot clé ***elif*** est la contraction de ***else*** et de ***if***. Cette structure permet de tester plusieurs conditions à la suite. Ici, cela sert à prendre en compte le fait que notre **liste_carres** ne connaît que les carrés jusqu'à 100."
   ]
  },
  {
   "cell_type": "markdown",
   "metadata": {},
   "source": [
    "## Manipuler les listes"
   ]
  },
  {
   "cell_type": "markdown",
   "metadata": {},
   "source": [
    "On peut mettre deux listes bout à bout comme on le voit sur l'exemple suivant. On remarque l'utilisation naturelle du signe '+' pour ajouter deux listes bout à bout."
   ]
  },
  {
   "cell_type": "code",
   "execution_count": null,
   "metadata": {
    "collapsed": false
   },
   "outputs": [],
   "source": [
    "liste_carres=liste_carres + [121,144,169,196,225]\n",
    "print(liste_carres)"
   ]
  },
  {
   "cell_type": "markdown",
   "metadata": {},
   "source": [
    "De même qu'on possède l'opération +, il existe aussi l'opération * pour obtenir une liste formée de plusieurs fois la même liste. Je vous laisse découvrir le fonctionnement de cet opérateur dans la cellule ci-dessous :"
   ]
  },
  {
   "cell_type": "code",
   "execution_count": null,
   "metadata": {
    "collapsed": false
   },
   "outputs": [],
   "source": [
    "3*[1,2,4]"
   ]
  },
  {
   "cell_type": "markdown",
   "metadata": {},
   "source": [
    "Pour savoir combien d'éléments contient une liste, on peut utiliser la fonction ***len()***.\n",
    "\n",
    "Testez aussi les fonctions ***min()*** et ***max()*** sur la liste_carres. A quoi servent elles ?"
   ]
  },
  {
   "cell_type": "code",
   "execution_count": null,
   "metadata": {
    "collapsed": false
   },
   "outputs": [],
   "source": [
    "len(liste_carres)"
   ]
  },
  {
   "cell_type": "code",
   "execution_count": null,
   "metadata": {
    "collapsed": false
   },
   "outputs": [],
   "source": [
    "print(min(liste_carres),max(liste_carres))"
   ]
  },
  {
   "cell_type": "markdown",
   "metadata": {},
   "source": [
    "Pour connaître la position d'un objet dans une liste, on peut utiliser la méthode ***.index()**. Elle s'utilise comme suit. Que se passe t-il si l'objet recherché n'appartient pas à la liste ?"
   ]
  },
  {
   "cell_type": "code",
   "execution_count": null,
   "metadata": {
    "collapsed": false
   },
   "outputs": [],
   "source": [
    "liste_carres.index(81)"
   ]
  },
  {
   "cell_type": "markdown",
   "metadata": {},
   "source": [
    "De la même manière, on peut compter le nombre d'éléments dans une liste. Pour cela, on utilise la méthode ***.count()*** de manière similaire à ***.index()***. Pour vous exercer, ajouter à ***liste_carres*** la liste [121,81,169,81] et comptez le nombre d'occurences du nombre 81."
   ]
  },
  {
   "cell_type": "code",
   "execution_count": null,
   "metadata": {
    "collapsed": false
   },
   "outputs": [],
   "source": [
    "# A vous de jouer dans cette cellule\n",
    "liste_carres=liste_carres+[121,81,169,81]\n",
    "print(liste_carres)\n",
    "print(\"81 apparait \",liste_carres.count(81),\"fois\")"
   ]
  },
  {
   "cell_type": "markdown",
   "metadata": {},
   "source": [
    "### Parcourir une liste\n",
    "\n",
    "Il arrive très fréquemment d'avoir besoin d'accéder à tous les éléments d'une liste les uns après les autres. La boucle **for** est particulièrement adaptée à cet usage comme vous allez le voir :\n",
    "\n",
    "Exécutez et analysez l'exemple suivant :"
   ]
  },
  {
   "cell_type": "code",
   "execution_count": null,
   "metadata": {
    "collapsed": false
   },
   "outputs": [],
   "source": [
    "mois=[\"Janvier\", \"Février\", \"Mars\", \"Avril\",\"Mai\",\"Juin\",\"Juillet\",\"Aout\",\"Septembre\",\"Octobre\",\"Novembre\",\"Décembre\"]\n",
    "\n",
    "for m in mois:\n",
    "    print(\"le joli mois de\",m)"
   ]
  },
  {
   "cell_type": "markdown",
   "metadata": {},
   "source": [
    "Ce code est équivalent à une boucle **for** plus classique en gérant l'indice du tableau manuellement :"
   ]
  },
  {
   "cell_type": "code",
   "execution_count": null,
   "metadata": {
    "collapsed": false
   },
   "outputs": [],
   "source": [
    "for indice in range(12):\n",
    "    print(\"le joli mois de\",mois[indice])"
   ]
  },
  {
   "cell_type": "markdown",
   "metadata": {},
   "source": [
    "### A vous de jouer\n",
    "\n",
    "Ecrire un programme qui affiche à côté de chaque mois le nombre de jours. Vous utiliserez une boucle et la liste proposée ci-dessous. L'affichage ressemblera à ceci:\n",
    "\n",
    "Le mois de Janvier possède 31 jours\n",
    "Le mois de Février possède 28 ou 29 jours\n",
    "etc..."
   ]
  },
  {
   "cell_type": "code",
   "execution_count": null,
   "metadata": {
    "collapsed": false
   },
   "outputs": [],
   "source": [
    "jours=[31,\"28 ou 29\",31,30,31,30,31,31,30,31,30,31]\n",
    "mois=[\"Janvier\", \"Février\", \"Mars\", \"Avril\",\"Mai\",\"Juin\",\"Juillet\",\"Aout\",\"Septembre\",\"Octobre\",\"Novembre\",\"Décembre\"]\n",
    "\n",
    "# A vous de jouer"
   ]
  },
  {
   "cell_type": "code",
   "execution_count": null,
   "metadata": {
    "collapsed": true
   },
   "outputs": [],
   "source": []
  }
 ],
 "metadata": {
  "kernelspec": {
   "display_name": "Python 3",
   "language": "python",
   "name": "python3"
  },
  "language_info": {
   "codemirror_mode": {
    "name": "ipython",
    "version": 3
   },
   "file_extension": ".py",
   "mimetype": "text/x-python",
   "name": "python",
   "nbconvert_exporter": "python",
   "pygments_lexer": "ipython3",
   "version": "3.4.3"
  },
  "widgets": {
   "state": {},
   "version": "1.1.2"
  }
 },
 "nbformat": 4,
 "nbformat_minor": 0
}
